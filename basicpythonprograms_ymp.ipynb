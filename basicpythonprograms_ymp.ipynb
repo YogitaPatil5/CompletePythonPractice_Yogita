{
 "cells": [
  {
   "cell_type": "markdown",
   "id": "ef1fc3a5-a427-4bea-89fb-1606482588dc",
   "metadata": {},
   "source": [
    "# 3.2. 💻 Exercises ➞ Variables\n",
    "## 3.2.1. Exercises ➞ Level 1"
   ]
  },
  {
   "cell_type": "markdown",
   "id": "97a21ba4-2089-4eb4-a3a7-e2c7fdbf8258",
   "metadata": {},
   "source": [
    "Write a python comment saying Python variables and Constants"
   ]
  },
  {
   "cell_type": "code",
   "execution_count": 10,
   "id": "15bfec09-06ee-4248-9d79-1883fc9ff39f",
   "metadata": {},
   "outputs": [],
   "source": [
    "#Python variables and Constants"
   ]
  },
  {
   "cell_type": "markdown",
   "id": "8c6c92c1-5f45-40a8-8f5d-84e947069029",
   "metadata": {},
   "source": [
    "Declare a first_name variable and assign a value to it\n"
   ]
  },
  {
   "cell_type": "code",
   "execution_count": 14,
   "id": "b807957c-9967-464e-9356-fdd90070467f",
   "metadata": {},
   "outputs": [],
   "source": [
    "first_name = \"Yogita\""
   ]
  },
  {
   "cell_type": "markdown",
   "id": "300bca70-e4e6-46da-8091-d767391afaa2",
   "metadata": {},
   "source": [
    "Declare a last_name variable and assign a value to it"
   ]
  },
  {
   "cell_type": "code",
   "execution_count": 19,
   "id": "f930d7ac-ec80-4d31-b827-69d3c550626a",
   "metadata": {},
   "outputs": [],
   "source": [
    "last_name = \"Patil\""
   ]
  },
  {
   "cell_type": "markdown",
   "id": "4adfc153-91e8-4fe1-8752-f3df2aea642a",
   "metadata": {},
   "source": [
    "Declare a full_name variable and assign a value to it"
   ]
  },
  {
   "cell_type": "code",
   "execution_count": 25,
   "id": "550aebde-26aa-4ac8-8f6d-bd1343c6730f",
   "metadata": {},
   "outputs": [],
   "source": [
    "full_name = first_name + \" \" + last_name"
   ]
  },
  {
   "cell_type": "code",
   "execution_count": 27,
   "id": "17104cfb-8ee7-45e2-9033-0fe68dc9dcbd",
   "metadata": {},
   "outputs": [
    {
     "data": {
      "text/plain": [
       "'Yogita Patil'"
      ]
     },
     "execution_count": 27,
     "metadata": {},
     "output_type": "execute_result"
    }
   ],
   "source": [
    "full_name"
   ]
  },
  {
   "cell_type": "markdown",
   "id": "5769ced1-4b81-4788-8ad8-7d9c3b2278d2",
   "metadata": {},
   "source": [
    "Declare a variable is_light_on and assign a value to it"
   ]
  },
  {
   "cell_type": "code",
   "execution_count": 34,
   "id": "31d980e2-68d8-4ce8-926b-3231f9ac5613",
   "metadata": {},
   "outputs": [],
   "source": [
    "is_light_on = True"
   ]
  },
  {
   "cell_type": "code",
   "execution_count": 36,
   "id": "22eb6c84-214b-448c-9319-8b4e0d00bb7a",
   "metadata": {},
   "outputs": [
    {
     "data": {
      "text/plain": [
       "True"
      ]
     },
     "execution_count": 36,
     "metadata": {},
     "output_type": "execute_result"
    }
   ],
   "source": [
    "is_light_on"
   ]
  },
  {
   "cell_type": "markdown",
   "id": "2fe85053-8f2a-4c27-9970-a159f380cf4a",
   "metadata": {},
   "source": [
    "Declare multiple variable on one line"
   ]
  },
  {
   "cell_type": "code",
   "execution_count": 43,
   "id": "385e6d9f-a303-4e7f-8aef-8381e024cf26",
   "metadata": {},
   "outputs": [],
   "source": [
    "x, y, z = 10, 20, 30"
   ]
  },
  {
   "cell_type": "code",
   "execution_count": 49,
   "id": "95f29c21-22bf-4788-bac6-119a4d497d98",
   "metadata": {},
   "outputs": [
    {
     "data": {
      "text/plain": [
       "(10, 20, 30)"
      ]
     },
     "execution_count": 49,
     "metadata": {},
     "output_type": "execute_result"
    }
   ],
   "source": [
    "x, y, z"
   ]
  },
  {
   "cell_type": "code",
   "execution_count": 51,
   "id": "01de8c9f-69c3-4657-9f75-014e2027ac7f",
   "metadata": {},
   "outputs": [
    {
     "name": "stdout",
     "output_type": "stream",
     "text": [
      "First Name: Yogita\n",
      "Last Name: Patil\n",
      "Full Name: Yogita Patil\n",
      "Is the light on? True\n",
      "x, y, z: 10 20 30\n"
     ]
    }
   ],
   "source": [
    "print(\"First Name:\", first_name)\n",
    "print(\"Last Name:\", last_name)\n",
    "print(\"Full Name:\", full_name)\n",
    "print(\"Is the light on?\", is_light_on)\n",
    "print(\"x, y, z:\", x, y, z)"
   ]
  },
  {
   "cell_type": "markdown",
   "id": "74add715-adba-4077-863f-e7c8d3c5aa77",
   "metadata": {},
   "source": [
    "# 3.2.2. Exercises ➞ Level 2"
   ]
  },
  {
   "cell_type": "markdown",
   "id": "b75f1925-9841-429a-8949-7cdf95e1bc01",
   "metadata": {},
   "source": [
    "Check the data type of all your variables using type() built-in function"
   ]
  },
  {
   "cell_type": "code",
   "execution_count": 53,
   "id": "0c17c725-0997-4e17-b31d-2c6d6cfc567f",
   "metadata": {},
   "outputs": [
    {
     "name": "stdout",
     "output_type": "stream",
     "text": [
      "Type of first_name: <class 'str'>\n",
      "Type of last_name: <class 'str'>\n",
      "Type of full_name: <class 'str'>\n",
      "Type of is_light_on: <class 'bool'>\n",
      "Type of x: <class 'int'>\n",
      "Type of y: <class 'int'>\n",
      "Type of z: <class 'int'>\n"
     ]
    }
   ],
   "source": [
    "# Check the data type of all your variables using type() built-in function\n",
    "print(\"Type of first_name:\", type(first_name))\n",
    "print(\"Type of last_name:\", type(last_name))\n",
    "print(\"Type of full_name:\", type(full_name))\n",
    "print(\"Type of is_light_on:\", type(is_light_on))\n",
    "print(\"Type of x:\", type(x))\n",
    "print(\"Type of y:\", type(y))\n",
    "print(\"Type of z:\", type(z))"
   ]
  },
  {
   "cell_type": "markdown",
   "id": "7e2b051a-f30f-41e2-a8d1-d7b2784e4d5b",
   "metadata": {},
   "source": [
    "Using the len() built-in function, find the length of your first name"
   ]
  },
  {
   "cell_type": "code",
   "execution_count": 57,
   "id": "2670ae15-d70f-428d-934c-7d0011a5ff1f",
   "metadata": {},
   "outputs": [
    {
     "name": "stdout",
     "output_type": "stream",
     "text": [
      "Length of first_name: 6\n"
     ]
    }
   ],
   "source": [
    "# Using the len() built-in function, find the length of your first name\n",
    "print(\"Length of first_name:\", len(first_name))"
   ]
  },
  {
   "cell_type": "markdown",
   "id": "b3b4f146-5327-45d5-8004-c0f6e371af1c",
   "metadata": {},
   "source": [
    "Compare the length of your first_name and your last_name"
   ]
  },
  {
   "cell_type": "code",
   "execution_count": 62,
   "id": "14035a26-2378-4145-b22f-58b2c0a1046b",
   "metadata": {},
   "outputs": [
    {
     "name": "stdout",
     "output_type": "stream",
     "text": [
      "Length of last_name: 5\n",
      "Is first_name longer than last_name? True\n"
     ]
    }
   ],
   "source": [
    "print(\"Length of last_name:\", len(last_name))\n",
    "print(\"Is first_name longer than last_name?\", len(first_name) > len(last_name))"
   ]
  },
  {
   "cell_type": "markdown",
   "id": "ebeb0c05-8df1-42f9-b1ba-0d7b8271d130",
   "metadata": {},
   "source": [
    "Declare 6 as num_1 and 4 as num_2"
   ]
  },
  {
   "cell_type": "code",
   "execution_count": 70,
   "id": "69315d13-a953-45db-b615-63626fa11600",
   "metadata": {},
   "outputs": [],
   "source": [
    "num_1, num_2 = 6, 4"
   ]
  },
  {
   "cell_type": "markdown",
   "id": "e173429d-6958-4a22-8c44-888520a25a55",
   "metadata": {},
   "source": [
    "Add num_1 and num_2 and assign the value to a variable total"
   ]
  },
  {
   "cell_type": "code",
   "execution_count": 75,
   "id": "a2b39614-8f4e-445e-bfc1-4db593308d85",
   "metadata": {},
   "outputs": [],
   "source": [
    "total = num_1 + num_2"
   ]
  },
  {
   "cell_type": "markdown",
   "id": "26682a8e-22c3-4979-9973-2ac5913d5418",
   "metadata": {},
   "source": [
    "Subtract num_2 from num_1 and assign the value to a variable difference"
   ]
  },
  {
   "cell_type": "code",
   "execution_count": 78,
   "id": "97f76467-f33f-4eaf-bf0f-329a6fe00745",
   "metadata": {},
   "outputs": [],
   "source": [
    "difference = num_1 - num_2"
   ]
  },
  {
   "cell_type": "markdown",
   "id": "3037fce3-5798-4e3d-be4f-7b405bd907f0",
   "metadata": {},
   "source": [
    "Multiply num_2 and num_1 and assign the value to a variable product"
   ]
  },
  {
   "cell_type": "code",
   "execution_count": 81,
   "id": "386e5d84-eb1b-4ff0-9aec-87717b518c7d",
   "metadata": {},
   "outputs": [],
   "source": [
    "product = num_1 * num_2"
   ]
  },
  {
   "cell_type": "markdown",
   "id": "b4fce7cd-5688-4594-84dd-3afe5346ac99",
   "metadata": {},
   "source": [
    "Divide num_1 by num_2 and assign the value to a variable division"
   ]
  },
  {
   "cell_type": "code",
   "execution_count": 85,
   "id": "4aea6b4c-5d67-4063-9b5c-23934af2fe76",
   "metadata": {},
   "outputs": [],
   "source": [
    "division = num_1 / num_2"
   ]
  },
  {
   "cell_type": "markdown",
   "id": "3bdd467e-5042-459d-bbd0-8d0c09c5dc47",
   "metadata": {},
   "source": [
    "Use modulus division to find num_2 divided by num_1 and assign the value to a variable remainder"
   ]
  },
  {
   "cell_type": "code",
   "execution_count": 89,
   "id": "3201efb3-7080-494f-bed9-944cc9c79564",
   "metadata": {},
   "outputs": [],
   "source": [
    "remainder = num_1 % num_2"
   ]
  },
  {
   "cell_type": "markdown",
   "id": "e7857d9c-af0a-4268-9286-1b19918959c9",
   "metadata": {},
   "source": [
    "Calculate num_1 to the power of num_2 and assign the value to a variable exp"
   ]
  },
  {
   "cell_type": "code",
   "execution_count": 94,
   "id": "51a7ff8e-8052-4e2b-aeab-305a64579ee0",
   "metadata": {},
   "outputs": [],
   "source": [
    "exp = num_1 ** num_2"
   ]
  },
  {
   "cell_type": "markdown",
   "id": "7db9c3e0-f0ba-4d79-b475-32cd216754f2",
   "metadata": {},
   "source": [
    "Find floor division of num_1 by num_2 and assign the value to a variable floor_division"
   ]
  },
  {
   "cell_type": "code",
   "execution_count": 97,
   "id": "0bce813f-1d65-45f6-89e6-28947925e33c",
   "metadata": {},
   "outputs": [],
   "source": [
    "floor_division = num_1 // num_2"
   ]
  },
  {
   "cell_type": "code",
   "execution_count": 101,
   "id": "965a0642-71cc-416a-8fd2-339fb8c4916d",
   "metadata": {},
   "outputs": [
    {
     "name": "stdout",
     "output_type": "stream",
     "text": [
      "Total: 10\n",
      "Difference: 2\n",
      "Product: 24\n",
      "Division: 1.5\n",
      "Remainder: 2\n",
      "Exponent: 1296\n",
      "Floor division: 1\n"
     ]
    }
   ],
   "source": [
    "# Printing the results of arithmetic operations\n",
    "print(\"Total:\", total)\n",
    "print(\"Difference:\", difference)\n",
    "print(\"Product:\", product)\n",
    "print(\"Division:\", division)\n",
    "print(\"Remainder:\", remainder)\n",
    "print(\"Exponent:\", exp)\n",
    "print(\"Floor division:\", floor_division)\n"
   ]
  },
  {
   "cell_type": "markdown",
   "id": "4f8c3bbf-7180-4e4d-9cdf-5ad524ab1ab1",
   "metadata": {},
   "source": [
    "The radius of a circle is **30 meters**.\n",
    "    1. Calculate the area of a circle and assign the value to a variable name of **`area_of_circle`** by taking user **`input()`**\n",
    "    2. Calculate the circumference of a circle and assign the value to a variable name of **`circum_of_circle`** by taking user **`input()`**\n",
    "    3. Take radius as user **`input()`** and calculate the area."
   ]
  },
  {
   "cell_type": "code",
   "execution_count": 109,
   "id": "a5589927-cf45-419d-a418-0f7bc34877a7",
   "metadata": {},
   "outputs": [
    {
     "name": "stdout",
     "output_type": "stream",
     "text": [
      "Area of the circle: 2827.4333882308138\n",
      "Circumference of the circle: 188.49555921538757\n"
     ]
    }
   ],
   "source": [
    "# The radius of a circle is 30 meters.\n",
    "radius = 30\n",
    "\n",
    "# Calculate the area and circumference of a circle\n",
    "import math\n",
    "area_of_circle = math.pi * radius ** 2\n",
    "circum_of_circle = 2 * math.pi * radius\n",
    "\n",
    "print(\"Area of the circle:\", area_of_circle)\n",
    "print(\"Circumference of the circle:\", circum_of_circle)"
   ]
  },
  {
   "cell_type": "code",
   "execution_count": 111,
   "id": "7445172f-484a-4c88-9fac-62c7ac2f705f",
   "metadata": {},
   "outputs": [
    {
     "name": "stdin",
     "output_type": "stream",
     "text": [
      "Enter the radius of the circle:  20\n"
     ]
    },
    {
     "name": "stdout",
     "output_type": "stream",
     "text": [
      "Area of the circle with user input: 1256.6370614359173\n"
     ]
    }
   ],
   "source": [
    "# Taking radius as user input and calculating the area\n",
    "radius_user = float(input(\"Enter the radius of the circle: \"))\n",
    "area_user = math.pi * radius_user ** 2\n",
    "print(\"Area of the circle with user input:\", area_user)\n"
   ]
  },
  {
   "cell_type": "markdown",
   "id": "ce0f6e86-2dba-419d-9f5b-562d6a42cfbe",
   "metadata": {},
   "source": [
    "Use the built-in **`input()`** function to get first name, last name, country and age from a user and store the value to their corresponding variable names"
   ]
  },
  {
   "cell_type": "code",
   "execution_count": 115,
   "id": "6898d10b-5d3d-41e0-a417-a628cabf93ca",
   "metadata": {},
   "outputs": [
    {
     "name": "stdin",
     "output_type": "stream",
     "text": [
      "Enter your first name:  yogita\n",
      "Enter your last name:  patil\n",
      "Enter your country:  india\n",
      "Enter your age:  30\n"
     ]
    }
   ],
   "source": [
    "# Use input() function to get first name, last name, country, and age\n",
    "first_name_input = input(\"Enter your first name: \")\n",
    "last_name_input = input(\"Enter your last name: \")\n",
    "country = input(\"Enter your country: \")\n",
    "age = input(\"Enter your age: \")"
   ]
  },
  {
   "cell_type": "markdown",
   "id": "bbb1cc99-401e-44f8-8fb6-91081ed71683",
   "metadata": {},
   "source": [
    "Run help (**`keywords`**) in Python shell or in your file to check for the Python reserved words or keywords"
   ]
  },
  {
   "cell_type": "code",
   "execution_count": 118,
   "id": "83f81156-4fbf-407a-b037-15e41053a925",
   "metadata": {},
   "outputs": [
    {
     "name": "stdout",
     "output_type": "stream",
     "text": [
      "\n",
      "Here is a list of the Python keywords.  Enter any keyword to get more help.\n",
      "\n",
      "False               class               from                or\n",
      "None                continue            global              pass\n",
      "True                def                 if                  raise\n",
      "and                 del                 import              return\n",
      "as                  elif                in                  try\n",
      "assert              else                is                  while\n",
      "async               except              lambda              with\n",
      "await               finally             nonlocal            yield\n",
      "break               for                 not                 \n",
      "\n"
     ]
    }
   ],
   "source": [
    "# Check for Python reserved keywords\n",
    "help(\"keywords\")"
   ]
  },
  {
   "cell_type": "code",
   "execution_count": null,
   "id": "7479a9b5-5050-42c6-b26f-41ec46d5c99a",
   "metadata": {},
   "outputs": [],
   "source": []
  }
 ],
 "metadata": {
  "kernelspec": {
   "display_name": "Python 3 (ipykernel)",
   "language": "python",
   "name": "python3"
  },
  "language_info": {
   "codemirror_mode": {
    "name": "ipython",
    "version": 3
   },
   "file_extension": ".py",
   "mimetype": "text/x-python",
   "name": "python",
   "nbconvert_exporter": "python",
   "pygments_lexer": "ipython3",
   "version": "3.11.5"
  }
 },
 "nbformat": 4,
 "nbformat_minor": 5
}
